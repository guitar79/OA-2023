{
 "cells": [
  {
   "cell_type": "markdown",
   "metadata": {},
   "source": [
    "The following topics may change over time, and are **not the only topics you can choose**. You can bring your own idea and test that with group members using observational data."
   ]
  },
  {
   "cell_type": "markdown",
   "metadata": {},
   "source": [
    "Goal 1 = \"the goal that the TA wants you to try\"\n",
    "\n",
    "Goal 2 = \"the goal that the TA thinks you may try\""
   ]
  },
  {
   "cell_type": "markdown",
   "metadata": {},
   "source": [
    "## Cosmic-Ray (CR) Rejection and Hayabusa\n",
    "\n",
    "L.A.Cosmic has been a great algorithm to reject cosmic rays since its \n",
    "introduction in 2001 (P. G. van Dokkum, 2001, PASP).\n",
    "Why don't we explore it more?\n",
    "\n",
    "For example, CR rejection for Deep Impact mission data says some other \n",
    "algorithm works better. (Ipatov et al., 2007, Advances in Space Research)\n",
    "\n",
    "We have `astroscrappy`, which basically is the same as L.A.Cosmic.\n",
    "\n",
    "**Goal 1**: \n",
    " * Reject CR from a HST image, reproduce van Dokkum's result\n",
    " * Make fake images with stars, galaxies, and CR. Reproduce van Dokkum's result.\n",
    "\n",
    "You may also try\n",
    "\n",
    "Goal 2: Cosmic-Ray removal and detection of stars, confirm whether there has\n",
    "        been dust ejection at Itokawa during approach of Hayabusa."
   ]
  },
  {
   "cell_type": "markdown",
   "metadata": {},
   "source": [
    "## Instrumental Uncertainties in measurement\n",
    "Uncertainties are everywhere.\n",
    "We just used bias and flat, but actually there can be uncertainties due to \n",
    "non-linearity, uncertainties in gain, readout noise, and the integer nature of \n",
    "ADU scheme. These are critical for faint object detection, which is one of the \n",
    "most important reasons why astronomers were so attracted to CCD. It's quite\n",
    "ironical that we usually discard faint sources though CCD was developed for \n",
    "such reason (Gilliland, 1992, in \"Astronomical CCD Observing and Reduction \n",
    "Techniques\", ASP Conference Series, S. B. Howell, ed.).\n",
    "\n",
    "Search for engineering and statistical literatures and find out how significant \n",
    "those effects could be for very faint objects, or very diffuse object. \n",
    "\n",
    "One possible literature for calculating more accurate noise factor is given\n",
    "in Merline & Howell 1995 (Experimental Astronomy, 6, 163).\n",
    "\n",
    "**Goal 1**:  \n",
    "\n",
    "* State the noise level formalism (you may just follow Merline & Howell).\n",
    "* Use the formalism to check the accuracy of \"faint target photometry\" using any image you are interested in. If you have problem finding an image (or images), TA or professor will give you some sets.\n",
    "\n",
    "You may also try\n",
    "\n",
    "**Goal 2**:\n",
    "\n",
    "* Formally state the sky estimation and the error from sky. See, e.g., Howell, 1989, PASP, 101, 616-622, and reproduce similar results. You may also think about the way to generate \"realistic\" sky, not just random/gaussian noises."
   ]
  },
  {
   "cell_type": "markdown",
   "metadata": {},
   "source": [
    "## Comparison between IRAF and photutils aperture photometry\n",
    "I have recently realized that the PHOT task in IRAF \"approximates\" the \n",
    "aperture, while photutils does the exact aperture summation. That is, if some\n",
    "fraction `f` of the pixel is inside the aperture, IRAF does not calculate\n",
    "`f` exactly, but approximates it in a certain way.\n",
    "\n",
    "**Goal 1**: Compare IRAF and photutils.\n",
    "\n",
    "* The source code of IRAF photometry task may be found at the directory \"`$IRAF/noao/digiphot/apphot/phot/apmeasure.x`\". For me, `$IRAF` is \"`$HOME/anaconda/envs/iraf/iraf`\" and it may differ for you. Read it and understand what it does.\n",
    "\n",
    "* Do a test case and check the difference of IRAF and photutils. \n",
    "  * For example, you may generate a 50 by 50 pixel image of pixel values 1 (constant) as a FITS file via python. Then check the aperture photometry result of IRAF and photutils for various aperture sizes.\n",
    "  * For comparison, you may turn the centroiding algorithms off in IRAF.\n",
    "        \n",
    "**Goal 2**: \n",
    "\n",
    "* How will the difference affect the credibility of IRAF results? Refer to Stetson, 1990, PASP, 102, 932-948, and check the effect on growth-curve that he used in his calculation. You may use any ground-based observation data. If you want, TA or professor will provide some.\n",
    "        "
   ]
  },
  {
   "cell_type": "code",
   "execution_count": null,
   "metadata": {
    "collapsed": true
   },
   "outputs": [],
   "source": []
  }
 ],
 "metadata": {
  "kernelspec": {
   "display_name": "Python 3",
   "language": "python",
   "name": "python3"
  },
  "language_info": {
   "codemirror_mode": {
    "name": "ipython",
    "version": 3
   },
   "file_extension": ".py",
   "mimetype": "text/x-python",
   "name": "python",
   "nbconvert_exporter": "python",
   "pygments_lexer": "ipython3",
   "version": "3.6.1"
  }
 },
 "nbformat": 4,
 "nbformat_minor": 2
}
